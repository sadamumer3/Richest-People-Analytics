{
 "cells": [
  {
   "cell_type": "markdown",
   "id": "620202ae-9b09-4951-a0f5-1de09625f4a5",
   "metadata": {},
   "source": [
    "## Import libraries"
   ]
  },
  {
   "cell_type": "code",
   "execution_count": 52,
   "id": "5b480162-1655-4316-b2b9-e0206a17f1b3",
   "metadata": {},
   "outputs": [],
   "source": [
    "import pandas as pd\n",
    "import matplotlib.pyplot as plt"
   ]
  },
  {
   "cell_type": "markdown",
   "id": "e08cd662-db50-4bd6-8c80-b12bdcff6d74",
   "metadata": {},
   "source": [
    "## Load CSV data"
   ]
  },
  {
   "cell_type": "code",
   "execution_count": 53,
   "id": "4811dd20-1494-4210-bd88-014ef96be774",
   "metadata": {},
   "outputs": [],
   "source": [
    "df = pd.read_csv('1000_richest_people_in_the_world.csv')"
   ]
  },
  {
   "cell_type": "markdown",
   "id": "f175b5b4-f612-49bf-ba21-b9e255540bfe",
   "metadata": {},
   "source": [
    "## Dataset Overview "
   ]
  },
  {
   "cell_type": "code",
   "execution_count": 54,
   "id": "00f6a6de-8ec8-4275-99ed-6a557ceb2199",
   "metadata": {},
   "outputs": [
    {
     "data": {
      "text/html": [
       "<div>\n",
       "<style scoped>\n",
       "    .dataframe tbody tr th:only-of-type {\n",
       "        vertical-align: middle;\n",
       "    }\n",
       "\n",
       "    .dataframe tbody tr th {\n",
       "        vertical-align: top;\n",
       "    }\n",
       "\n",
       "    .dataframe thead th {\n",
       "        text-align: right;\n",
       "    }\n",
       "</style>\n",
       "<table border=\"1\" class=\"dataframe\">\n",
       "  <thead>\n",
       "    <tr style=\"text-align: right;\">\n",
       "      <th></th>\n",
       "      <th>Name</th>\n",
       "      <th>Country</th>\n",
       "      <th>Industry</th>\n",
       "      <th>Net Worth (in billions)</th>\n",
       "      <th>Company</th>\n",
       "    </tr>\n",
       "  </thead>\n",
       "  <tbody>\n",
       "    <tr>\n",
       "      <th>0</th>\n",
       "      <td>Rob Walton</td>\n",
       "      <td>Mexico</td>\n",
       "      <td>Finance</td>\n",
       "      <td>8.50</td>\n",
       "      <td>Walmart</td>\n",
       "    </tr>\n",
       "    <tr>\n",
       "      <th>1</th>\n",
       "      <td>Sergey Brin</td>\n",
       "      <td>USA</td>\n",
       "      <td>Automotive</td>\n",
       "      <td>44.76</td>\n",
       "      <td>Google</td>\n",
       "    </tr>\n",
       "    <tr>\n",
       "      <th>2</th>\n",
       "      <td>Steve Ballmer</td>\n",
       "      <td>USA</td>\n",
       "      <td>Manufacturing</td>\n",
       "      <td>13.43</td>\n",
       "      <td>Koch Industries</td>\n",
       "    </tr>\n",
       "    <tr>\n",
       "      <th>3</th>\n",
       "      <td>Mukesh Ambani</td>\n",
       "      <td>USA</td>\n",
       "      <td>Technology</td>\n",
       "      <td>120.44</td>\n",
       "      <td>Google</td>\n",
       "    </tr>\n",
       "    <tr>\n",
       "      <th>4</th>\n",
       "      <td>Jim Walton</td>\n",
       "      <td>USA</td>\n",
       "      <td>Fashion</td>\n",
       "      <td>122.39</td>\n",
       "      <td>Walmart</td>\n",
       "    </tr>\n",
       "  </tbody>\n",
       "</table>\n",
       "</div>"
      ],
      "text/plain": [
       "            Name Country       Industry  Net Worth (in billions)  \\\n",
       "0     Rob Walton  Mexico        Finance                     8.50   \n",
       "1    Sergey Brin     USA     Automotive                    44.76   \n",
       "2  Steve Ballmer     USA  Manufacturing                    13.43   \n",
       "3  Mukesh Ambani     USA     Technology                   120.44   \n",
       "4     Jim Walton     USA        Fashion                   122.39   \n",
       "\n",
       "           Company  \n",
       "0          Walmart  \n",
       "1           Google  \n",
       "2  Koch Industries  \n",
       "3           Google  \n",
       "4          Walmart  "
      ]
     },
     "execution_count": 54,
     "metadata": {},
     "output_type": "execute_result"
    }
   ],
   "source": [
    "df.head()"
   ]
  },
  {
   "cell_type": "code",
   "execution_count": 55,
   "id": "6e75d139-4a67-4d1e-b67f-5e040aae6e7c",
   "metadata": {},
   "outputs": [
    {
     "name": "stdout",
     "output_type": "stream",
     "text": [
      "<class 'pandas.core.frame.DataFrame'>\n",
      "RangeIndex: 1000 entries, 0 to 999\n",
      "Data columns (total 5 columns):\n",
      " #   Column                   Non-Null Count  Dtype  \n",
      "---  ------                   --------------  -----  \n",
      " 0   Name                     1000 non-null   object \n",
      " 1   Country                  1000 non-null   object \n",
      " 2   Industry                 1000 non-null   object \n",
      " 3   Net Worth (in billions)  1000 non-null   float64\n",
      " 4   Company                  1000 non-null   object \n",
      "dtypes: float64(1), object(4)\n",
      "memory usage: 39.2+ KB\n"
     ]
    }
   ],
   "source": [
    "df.info()"
   ]
  },
  {
   "cell_type": "markdown",
   "id": "1701eed1-8245-4a6d-bd00-8e3a3fb4c6ac",
   "metadata": {},
   "source": [
    "## Country with most Billionaires "
   ]
  },
  {
   "cell_type": "code",
   "execution_count": 56,
   "id": "fee467f2-a007-4933-952f-a9ebcc2bf206",
   "metadata": {},
   "outputs": [
    {
     "name": "stdout",
     "output_type": "stream",
     "text": [
      "Country with most Billionaires: USA\n"
     ]
    }
   ],
   "source": [
    "country_grouped = df.groupby('Country')['Net Worth (in billions)'].count().sort_values(ascending=False).reset_index()\n",
    "print(f\"Country with most Billionaires: {country_grouped['Country'][0]}\")"
   ]
  },
  {
   "cell_type": "code",
   "execution_count": 57,
   "id": "1a037bf2-db68-4fa3-a6a2-783e26328e57",
   "metadata": {},
   "outputs": [
    {
     "data": {
      "image/png": "[encoded data removed]",
      "text/plain": [
       "<Figure size 640x480 with 1 Axes>"
      ]
     },
     "metadata": {},
     "output_type": "display_data"
    }
   ],
   "source": [
    "plt.bar(country_grouped['Country'],country_grouped['Net Worth (in billions)'])\n",
    "plt.title(\"Country with Total Net worth of its Billionaires\")\n",
    "plt.xlabel(\"Country\")\n",
    "plt.ylabel(\"Net Worth (in billions)\")\n",
    "plt.show()"
   ]
  },
  {
   "cell_type": "markdown",
   "id": "46ceb8a2-a2bb-4c53-8ada-c6152de9a3ba",
   "metadata": {},
   "source": [
    "## People with Net worth > 150 billions"
   ]
  },
  {
   "cell_type": "code",
   "execution_count": 58,
   "id": "3a55a833-135e-4857-ba9c-d9bdcf7a58d5",
   "metadata": {},
   "outputs": [
    {
     "data": {
      "text/html": [
       "<div>\n",
       "<style scoped>\n",
       "    .dataframe tbody tr th:only-of-type {\n",
       "        vertical-align: middle;\n",
       "    }\n",
       "\n",
       "    .dataframe tbody tr th {\n",
       "        vertical-align: top;\n",
       "    }\n",
       "\n",
       "    .dataframe thead th {\n",
       "        text-align: right;\n",
       "    }\n",
       "</style>\n",
       "<table border=\"1\" class=\"dataframe\">\n",
       "  <thead>\n",
       "    <tr style=\"text-align: right;\">\n",
       "      <th></th>\n",
       "      <th>Name</th>\n",
       "      <th>Country</th>\n",
       "      <th>Industry</th>\n",
       "      <th>Net Worth (in billions)</th>\n",
       "      <th>Company</th>\n",
       "    </tr>\n",
       "  </thead>\n",
       "  <tbody>\n",
       "    <tr>\n",
       "      <th>0</th>\n",
       "      <td>Alice Walton</td>\n",
       "      <td>USA</td>\n",
       "      <td>Technology</td>\n",
       "      <td>167.09</td>\n",
       "      <td>Zara</td>\n",
       "    </tr>\n",
       "    <tr>\n",
       "      <th>1</th>\n",
       "      <td>Alice Walton</td>\n",
       "      <td>USA</td>\n",
       "      <td>Technology</td>\n",
       "      <td>192.96</td>\n",
       "      <td>Oracle</td>\n",
       "    </tr>\n",
       "    <tr>\n",
       "      <th>2</th>\n",
       "      <td>Larry Ellison</td>\n",
       "      <td>USA</td>\n",
       "      <td>Media</td>\n",
       "      <td>167.65</td>\n",
       "      <td>Koch Industries</td>\n",
       "    </tr>\n",
       "    <tr>\n",
       "      <th>3</th>\n",
       "      <td>Larry Page</td>\n",
       "      <td>USA</td>\n",
       "      <td>Technology</td>\n",
       "      <td>184.80</td>\n",
       "      <td>Berkshire Hathaway</td>\n",
       "    </tr>\n",
       "    <tr>\n",
       "      <th>4</th>\n",
       "      <td>Amancio Ortega</td>\n",
       "      <td>USA</td>\n",
       "      <td>Manufacturing</td>\n",
       "      <td>197.26</td>\n",
       "      <td>Zara</td>\n",
       "    </tr>\n",
       "    <tr>\n",
       "      <th>...</th>\n",
       "      <td>...</td>\n",
       "      <td>...</td>\n",
       "      <td>...</td>\n",
       "      <td>...</td>\n",
       "      <td>...</td>\n",
       "    </tr>\n",
       "    <tr>\n",
       "      <th>257</th>\n",
       "      <td>Steve Ballmer</td>\n",
       "      <td>USA</td>\n",
       "      <td>Retail</td>\n",
       "      <td>187.02</td>\n",
       "      <td>Microsoft</td>\n",
       "    </tr>\n",
       "    <tr>\n",
       "      <th>258</th>\n",
       "      <td>David Koch</td>\n",
       "      <td>USA</td>\n",
       "      <td>Cosmetics</td>\n",
       "      <td>185.84</td>\n",
       "      <td>Walmart</td>\n",
       "    </tr>\n",
       "    <tr>\n",
       "      <th>259</th>\n",
       "      <td>Amancio Ortega</td>\n",
       "      <td>USA</td>\n",
       "      <td>Media</td>\n",
       "      <td>166.87</td>\n",
       "      <td>Walmart</td>\n",
       "    </tr>\n",
       "    <tr>\n",
       "      <th>260</th>\n",
       "      <td>Amancio Ortega</td>\n",
       "      <td>Spain</td>\n",
       "      <td>Retail</td>\n",
       "      <td>163.18</td>\n",
       "      <td>Reliance Industries</td>\n",
       "    </tr>\n",
       "    <tr>\n",
       "      <th>261</th>\n",
       "      <td>Jim Walton</td>\n",
       "      <td>USA</td>\n",
       "      <td>Retail</td>\n",
       "      <td>186.94</td>\n",
       "      <td>Berkshire Hathaway</td>\n",
       "    </tr>\n",
       "  </tbody>\n",
       "</table>\n",
       "<p>262 rows × 5 columns</p>\n",
       "</div>"
      ],
      "text/plain": [
       "               Name Country       Industry  Net Worth (in billions)  \\\n",
       "0      Alice Walton     USA     Technology                   167.09   \n",
       "1      Alice Walton     USA     Technology                   192.96   \n",
       "2     Larry Ellison     USA          Media                   167.65   \n",
       "3        Larry Page     USA     Technology                   184.80   \n",
       "4    Amancio Ortega     USA  Manufacturing                   197.26   \n",
       "..              ...     ...            ...                      ...   \n",
       "257   Steve Ballmer     USA         Retail                   187.02   \n",
       "258      David Koch     USA      Cosmetics                   185.84   \n",
       "259  Amancio Ortega     USA          Media                   166.87   \n",
       "260  Amancio Ortega   Spain         Retail                   163.18   \n",
       "261      Jim Walton     USA         Retail                   186.94   \n",
       "\n",
       "                 Company  \n",
       "0                   Zara  \n",
       "1                 Oracle  \n",
       "2        Koch Industries  \n",
       "3     Berkshire Hathaway  \n",
       "4                   Zara  \n",
       "..                   ...  \n",
       "257            Microsoft  \n",
       "258              Walmart  \n",
       "259              Walmart  \n",
       "260  Reliance Industries  \n",
       "261   Berkshire Hathaway  \n",
       "\n",
       "[262 rows x 5 columns]"
      ]
     },
     "execution_count": 58,
     "metadata": {},
     "output_type": "execute_result"
    }
   ],
   "source": [
    "ten_billion = df[df['Net Worth (in billions)']>150].reset_index(drop=True)\n",
    "ten_billion"
   ]
  },
  {
   "cell_type": "markdown",
   "id": "ec3812b0-0aba-41b5-b5aa-b4310268192d",
   "metadata": {},
   "source": [
    "### Combined Net worth of people with Net worth > 150 Billions, in each Country "
   ]
  },
  {
   "cell_type": "code",
   "execution_count": 59,
   "id": "f45fa8a1-4b6b-4342-95c1-896e1f0ebe36",
   "metadata": {},
   "outputs": [
    {
     "data": {
      "text/html": [
       "<div>\n",
       "<style scoped>\n",
       "    .dataframe tbody tr th:only-of-type {\n",
       "        vertical-align: middle;\n",
       "    }\n",
       "\n",
       "    .dataframe tbody tr th {\n",
       "        vertical-align: top;\n",
       "    }\n",
       "\n",
       "    .dataframe thead th {\n",
       "        text-align: right;\n",
       "    }\n",
       "</style>\n",
       "<table border=\"1\" class=\"dataframe\">\n",
       "  <thead>\n",
       "    <tr style=\"text-align: right;\">\n",
       "      <th></th>\n",
       "      <th>Country</th>\n",
       "      <th>Net Worth (in billions)</th>\n",
       "    </tr>\n",
       "  </thead>\n",
       "  <tbody>\n",
       "    <tr>\n",
       "      <th>0</th>\n",
       "      <td>USA</td>\n",
       "      <td>206</td>\n",
       "    </tr>\n",
       "    <tr>\n",
       "      <th>1</th>\n",
       "      <td>France</td>\n",
       "      <td>22</td>\n",
       "    </tr>\n",
       "    <tr>\n",
       "      <th>2</th>\n",
       "      <td>India</td>\n",
       "      <td>13</td>\n",
       "    </tr>\n",
       "    <tr>\n",
       "      <th>3</th>\n",
       "      <td>Mexico</td>\n",
       "      <td>13</td>\n",
       "    </tr>\n",
       "    <tr>\n",
       "      <th>4</th>\n",
       "      <td>Spain</td>\n",
       "      <td>8</td>\n",
       "    </tr>\n",
       "  </tbody>\n",
       "</table>\n",
       "</div>"
      ],
      "text/plain": [
       "  Country  Net Worth (in billions)\n",
       "0     USA                      206\n",
       "1  France                       22\n",
       "2   India                       13\n",
       "3  Mexico                       13\n",
       "4   Spain                        8"
      ]
     },
     "execution_count": 59,
     "metadata": {},
     "output_type": "execute_result"
    }
   ],
   "source": [
    "tenB_country_counts = ten_billion.groupby('Country')['Net Worth (in billions)'].count().sort_values(ascending=False).reset_index()\n",
    "tenB_country_counts"
   ]
  },
  {
   "cell_type": "code",
   "execution_count": 60,
   "id": "45ee1a94-0dd1-4019-afc1-a9c40d1f66b5",
   "metadata": {},
   "outputs": [
    {
     "data": {
      "image/png": "[encoded data removed]",
      "text/plain": [
       "<Figure size 640x480 with 1 Axes>"
      ]
     },
     "metadata": {},
     "output_type": "display_data"
    }
   ],
   "source": [
    "plt.bar(tenB_country_counts['Country'],tenB_country_counts['Net Worth (in billions)'])\n",
    "plt.title(\"Countries with Total Net worth > 150b of its Billionaires\")\n",
    "plt.xlabel(\"Country\")\n",
    "plt.ylabel(\"Net Worth (in billions)\")\n",
    "plt.show()"
   ]
  },
  {
   "cell_type": "markdown",
   "id": "0de732e4-e84b-4c3f-86a9-4b037c1e8aa0",
   "metadata": {},
   "source": [
    "## Industries with their Net worth "
   ]
  },
  {
   "cell_type": "markdown",
   "id": "6495c208-22c3-4e3f-b1ef-4ccce456991e",
   "metadata": {},
   "source": [
    "### Industry with highest combined Net worth"
   ]
  },
  {
   "cell_type": "code",
   "execution_count": 61,
   "id": "2a19faf8-151f-471f-bf1a-f1882584de24",
   "metadata": {},
   "outputs": [
    {
     "name": "stdout",
     "output_type": "stream",
     "text": [
      "Industry with highest combined Net Worth: Technology , 350 billions\n"
     ]
    }
   ],
   "source": [
    "tenB_inds_counts = df.groupby('Industry')['Net Worth (in billions)'].count().sort_values(ascending=False).reset_index()\n",
    "print(f\"Industry with highest combined Net Worth: {tenB_inds_counts['Industry'][0]} , {tenB_inds_counts['Net Worth (in billions)'][0]} billions\")"
   ]
  },
  {
   "cell_type": "code",
   "execution_count": 62,
   "id": "39a7188e-20d2-4d03-896e-f1e44e58f5fe",
   "metadata": {},
   "outputs": [
    {
     "data": {
      "text/html": [
       "<div>\n",
       "<style scoped>\n",
       "    .dataframe tbody tr th:only-of-type {\n",
       "        vertical-align: middle;\n",
       "    }\n",
       "\n",
       "    .dataframe tbody tr th {\n",
       "        vertical-align: top;\n",
       "    }\n",
       "\n",
       "    .dataframe thead th {\n",
       "        text-align: right;\n",
       "    }\n",
       "</style>\n",
       "<table border=\"1\" class=\"dataframe\">\n",
       "  <thead>\n",
       "    <tr style=\"text-align: right;\">\n",
       "      <th></th>\n",
       "      <th>Industry</th>\n",
       "      <th>Net Worth (in billions)</th>\n",
       "    </tr>\n",
       "  </thead>\n",
       "  <tbody>\n",
       "    <tr>\n",
       "      <th>0</th>\n",
       "      <td>Technology</td>\n",
       "      <td>350</td>\n",
       "    </tr>\n",
       "    <tr>\n",
       "      <th>1</th>\n",
       "      <td>Retail</td>\n",
       "      <td>217</td>\n",
       "    </tr>\n",
       "    <tr>\n",
       "      <th>2</th>\n",
       "      <td>Manufacturing</td>\n",
       "      <td>94</td>\n",
       "    </tr>\n",
       "    <tr>\n",
       "      <th>3</th>\n",
       "      <td>Media</td>\n",
       "      <td>57</td>\n",
       "    </tr>\n",
       "    <tr>\n",
       "      <th>4</th>\n",
       "      <td>Cosmetics</td>\n",
       "      <td>51</td>\n",
       "    </tr>\n",
       "    <tr>\n",
       "      <th>5</th>\n",
       "      <td>Telecommunications</td>\n",
       "      <td>51</td>\n",
       "    </tr>\n",
       "    <tr>\n",
       "      <th>6</th>\n",
       "      <td>Finance</td>\n",
       "      <td>50</td>\n",
       "    </tr>\n",
       "    <tr>\n",
       "      <th>7</th>\n",
       "      <td>Fashion</td>\n",
       "      <td>44</td>\n",
       "    </tr>\n",
       "    <tr>\n",
       "      <th>8</th>\n",
       "      <td>Automotive</td>\n",
       "      <td>43</td>\n",
       "    </tr>\n",
       "    <tr>\n",
       "      <th>9</th>\n",
       "      <td>Petrochemicals</td>\n",
       "      <td>43</td>\n",
       "    </tr>\n",
       "  </tbody>\n",
       "</table>\n",
       "</div>"
      ],
      "text/plain": [
       "             Industry  Net Worth (in billions)\n",
       "0          Technology                      350\n",
       "1              Retail                      217\n",
       "2       Manufacturing                       94\n",
       "3               Media                       57\n",
       "4           Cosmetics                       51\n",
       "5  Telecommunications                       51\n",
       "6             Finance                       50\n",
       "7             Fashion                       44\n",
       "8          Automotive                       43\n",
       "9      Petrochemicals                       43"
      ]
     },
     "execution_count": 62,
     "metadata": {},
     "output_type": "execute_result"
    }
   ],
   "source": [
    "tenB_inds_counts"
   ]
  },
  {
   "cell_type": "code",
   "execution_count": 63,
   "id": "d8b7fdf0-8dfb-477b-bcd8-d5134249650e",
   "metadata": {},
   "outputs": [
    {
     "data": {
      "image/png": "[encoded data removed]",
      "text/plain": [
       "<Figure size 640x480 with 1 Axes>"
      ]
     },
     "metadata": {},
     "output_type": "display_data"
    }
   ],
   "source": [
    "plt.bar(tenB_inds_counts['Industry'],tenB_inds_counts['Net Worth (in billions)'])\n",
    "plt.title(\"Industry VS Total Net worth\")\n",
    "# plt.xlabel(\"Industry\")\n",
    "plt.ylabel(\"Net Worth (in billions)\")\n",
    "plt.xticks(rotation=90)\n",
    "plt.show()"
   ]
  },
  {
   "cell_type": "markdown",
   "id": "1fdd89f1-03b1-4f2f-925a-aeea5ae78e7b",
   "metadata": {},
   "source": [
    "## Top 10 Richest people, with combined worth of all companies in all Industries"
   ]
  },
  {
   "cell_type": "code",
   "execution_count": 64,
   "id": "6959537c-6fa5-4237-a6b2-c1ec7cba887f",
   "metadata": {},
   "outputs": [
    {
     "data": {
      "text/html": [
       "<div>\n",
       "<style scoped>\n",
       "    .dataframe tbody tr th:only-of-type {\n",
       "        vertical-align: middle;\n",
       "    }\n",
       "\n",
       "    .dataframe tbody tr th {\n",
       "        vertical-align: top;\n",
       "    }\n",
       "\n",
       "    .dataframe thead th {\n",
       "        text-align: right;\n",
       "    }\n",
       "</style>\n",
       "<table border=\"1\" class=\"dataframe\">\n",
       "  <thead>\n",
       "    <tr style=\"text-align: right;\">\n",
       "      <th></th>\n",
       "      <th>Name</th>\n",
       "      <th>Net Worth (in billions)</th>\n",
       "    </tr>\n",
       "  </thead>\n",
       "  <tbody>\n",
       "    <tr>\n",
       "      <th>0</th>\n",
       "      <td>Amancio Ortega</td>\n",
       "      <td>7222.63</td>\n",
       "    </tr>\n",
       "    <tr>\n",
       "      <th>1</th>\n",
       "      <td>Larry Ellison</td>\n",
       "      <td>7132.89</td>\n",
       "    </tr>\n",
       "    <tr>\n",
       "      <th>2</th>\n",
       "      <td>Elon Musk</td>\n",
       "      <td>6308.31</td>\n",
       "    </tr>\n",
       "    <tr>\n",
       "      <th>3</th>\n",
       "      <td>Michael Bloomberg</td>\n",
       "      <td>6008.78</td>\n",
       "    </tr>\n",
       "    <tr>\n",
       "      <th>4</th>\n",
       "      <td>Rob Walton</td>\n",
       "      <td>5976.81</td>\n",
       "    </tr>\n",
       "    <tr>\n",
       "      <th>5</th>\n",
       "      <td>Bill Gates</td>\n",
       "      <td>5930.01</td>\n",
       "    </tr>\n",
       "    <tr>\n",
       "      <th>6</th>\n",
       "      <td>Mukesh Ambani</td>\n",
       "      <td>5357.31</td>\n",
       "    </tr>\n",
       "    <tr>\n",
       "      <th>7</th>\n",
       "      <td>Sergey Brin</td>\n",
       "      <td>5263.97</td>\n",
       "    </tr>\n",
       "    <tr>\n",
       "      <th>8</th>\n",
       "      <td>Jim Walton</td>\n",
       "      <td>5197.47</td>\n",
       "    </tr>\n",
       "    <tr>\n",
       "      <th>9</th>\n",
       "      <td>Warren Buffett</td>\n",
       "      <td>4952.39</td>\n",
       "    </tr>\n",
       "  </tbody>\n",
       "</table>\n",
       "</div>"
      ],
      "text/plain": [
       "                Name  Net Worth (in billions)\n",
       "0     Amancio Ortega                  7222.63\n",
       "1      Larry Ellison                  7132.89\n",
       "2          Elon Musk                  6308.31\n",
       "3  Michael Bloomberg                  6008.78\n",
       "4         Rob Walton                  5976.81\n",
       "5         Bill Gates                  5930.01\n",
       "6      Mukesh Ambani                  5357.31\n",
       "7        Sergey Brin                  5263.97\n",
       "8         Jim Walton                  5197.47\n",
       "9     Warren Buffett                  4952.39"
      ]
     },
     "execution_count": 64,
     "metadata": {},
     "output_type": "execute_result"
    }
   ],
   "source": [
    "top_10_men = df.groupby(by='Name')['Net Worth (in billions)'].sum().sort_values(ascending=False).reset_index().head(10)\n",
    "top_10_men"
   ]
  },
  {
   "cell_type": "markdown",
   "id": "5523127d-abb0-41ce-ae81-199b9c987f58",
   "metadata": {},
   "source": [
    "## Top 10 companies, with combined worth of all people in all Industries"
   ]
  },
  {
   "cell_type": "code",
   "execution_count": 65,
   "id": "5887f275-ae63-416a-951e-729b2013e4b5",
   "metadata": {},
   "outputs": [
    {
     "data": {
      "text/html": [
       "<div>\n",
       "<style scoped>\n",
       "    .dataframe tbody tr th:only-of-type {\n",
       "        vertical-align: middle;\n",
       "    }\n",
       "\n",
       "    .dataframe tbody tr th {\n",
       "        vertical-align: top;\n",
       "    }\n",
       "\n",
       "    .dataframe thead th {\n",
       "        text-align: right;\n",
       "    }\n",
       "</style>\n",
       "<table border=\"1\" class=\"dataframe\">\n",
       "  <thead>\n",
       "    <tr style=\"text-align: right;\">\n",
       "      <th></th>\n",
       "      <th>Company</th>\n",
       "      <th>Net Worth (in billions)</th>\n",
       "    </tr>\n",
       "  </thead>\n",
       "  <tbody>\n",
       "    <tr>\n",
       "      <th>0</th>\n",
       "      <td>Walmart</td>\n",
       "      <td>15668.19</td>\n",
       "    </tr>\n",
       "    <tr>\n",
       "      <th>1</th>\n",
       "      <td>Microsoft</td>\n",
       "      <td>10466.70</td>\n",
       "    </tr>\n",
       "    <tr>\n",
       "      <th>2</th>\n",
       "      <td>Koch Industries</td>\n",
       "      <td>10233.88</td>\n",
       "    </tr>\n",
       "    <tr>\n",
       "      <th>3</th>\n",
       "      <td>Google</td>\n",
       "      <td>9812.82</td>\n",
       "    </tr>\n",
       "    <tr>\n",
       "      <th>4</th>\n",
       "      <td>LVMH</td>\n",
       "      <td>6270.89</td>\n",
       "    </tr>\n",
       "    <tr>\n",
       "      <th>5</th>\n",
       "      <td>Zara</td>\n",
       "      <td>5420.27</td>\n",
       "    </tr>\n",
       "    <tr>\n",
       "      <th>6</th>\n",
       "      <td>Reliance Industries</td>\n",
       "      <td>5396.04</td>\n",
       "    </tr>\n",
       "    <tr>\n",
       "      <th>7</th>\n",
       "      <td>Facebook</td>\n",
       "      <td>5382.44</td>\n",
       "    </tr>\n",
       "    <tr>\n",
       "      <th>8</th>\n",
       "      <td>Grupo Carso</td>\n",
       "      <td>5290.69</td>\n",
       "    </tr>\n",
       "    <tr>\n",
       "      <th>9</th>\n",
       "      <td>Tesla</td>\n",
       "      <td>5162.66</td>\n",
       "    </tr>\n",
       "  </tbody>\n",
       "</table>\n",
       "</div>"
      ],
      "text/plain": [
       "               Company  Net Worth (in billions)\n",
       "0              Walmart                 15668.19\n",
       "1            Microsoft                 10466.70\n",
       "2      Koch Industries                 10233.88\n",
       "3               Google                  9812.82\n",
       "4                 LVMH                  6270.89\n",
       "5                 Zara                  5420.27\n",
       "6  Reliance Industries                  5396.04\n",
       "7             Facebook                  5382.44\n",
       "8          Grupo Carso                  5290.69\n",
       "9                Tesla                  5162.66"
      ]
     },
     "execution_count": 65,
     "metadata": {},
     "output_type": "execute_result"
    }
   ],
   "source": [
    "top_10_cmp = df.groupby(by='Company')['Net Worth (in billions)'].sum().sort_values(ascending=False).reset_index().head(10)\n",
    "top_10_cmp"
   ]
  },
  {
   "cell_type": "code",
   "execution_count": null,
   "id": "12335a3e-0302-4ed5-84a8-ada829007e9c",
   "metadata": {},
   "outputs": [],
   "source": []
  }
 ],
 "metadata": {
  "kernelspec": {
   "display_name": "Python 3 (ipykernel)",
   "language": "python",
   "name": "python3"
  },
  "language_info": {
   "codemirror_mode": {
    "name": "ipython",
    "version": 3
   },
   "file_extension": ".py",
   "mimetype": "text/x-python",
   "name": "python",
   "nbconvert_exporter": "python",
   "pygments_lexer": "ipython3",
   "version": "3.12.4"
  }
 },
 "nbformat": 4,
 "nbformat_minor": 5
}
