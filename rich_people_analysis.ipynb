{
 "cells": [
  {
   "cell_type": "markdown",
   "id": "620202ae-9b09-4951-a0f5-1de09625f4a5",
   "metadata": {},
   "source": [
    "## Import libraries"
   ]
  },
  {
   "cell_type": "code",
   "execution_count": 1,
   "id": "5b480162-1655-4316-b2b9-e0206a17f1b3",
   "metadata": {},
   "outputs": [],
   "source": [
    "import pandas as pd\n",
    "import matplotlib.pyplot as plt"
   ]
  },
  {
   "cell_type": "markdown",
   "id": "e08cd662-db50-4bd6-8c80-b12bdcff6d74",
   "metadata": {},
   "source": [
    "## Load CSV data"
   ]
  },
  {
   "cell_type": "code",
   "execution_count": null,
   "id": "4811dd20-1494-4210-bd88-014ef96be774",
   "metadata": {},
   "outputs": [],
   "source": [
    "df = pd.read_csv('1000_richest_people_in_the_world.csv')"
   ]
  },
  {
   "cell_type": "markdown",
   "id": "f175b5b4-f612-49bf-ba21-b9e255540bfe",
   "metadata": {},
   "source": [
    "## Dataset Overview "
   ]
  },
  {
   "cell_type": "code",
   "execution_count": null,
   "id": "00f6a6de-8ec8-4275-99ed-6a557ceb2199",
   "metadata": {},
   "outputs": [],
   "source": [
    "df.head()"
   ]
  },
  {
   "cell_type": "code",
   "execution_count": null,
   "id": "6e75d139-4a67-4d1e-b67f-5e040aae6e7c",
   "metadata": {},
   "outputs": [],
   "source": [
    "df.info()"
   ]
  },
  {
   "cell_type": "markdown",
   "id": "1701eed1-8245-4a6d-bd00-8e3a3fb4c6ac",
   "metadata": {},
   "source": [
    "## Country with most Billionaires "
   ]
  },
  {
   "cell_type": "code",
   "execution_count": null,
   "id": "fee467f2-a007-4933-952f-a9ebcc2bf206",
   "metadata": {},
   "outputs": [],
   "source": [
    "country_grouped = df.groupby('Country')['Net Worth (in billions)'].count().sort_values(ascending=False).reset_index()\n",
    "print(f\"Country with most Billionaires: {country_grouped['Country'][0]}\")"
   ]
  },
  {
   "cell_type": "code",
   "execution_count": null,
   "id": "1a037bf2-db68-4fa3-a6a2-783e26328e57",
   "metadata": {},
   "outputs": [],
   "source": [
    "plt.bar(country_grouped['Country'],country_grouped['Net Worth (in billions)'])\n",
    "plt.title(\"Country with Total Net worth of its Billionaires\")\n",
    "plt.xlabel(\"Country\")\n",
    "plt.ylabel(\"Net Worth (in billions)\")\n",
    "plt.show()"
   ]
  },
  {
   "cell_type": "markdown",
   "id": "46ceb8a2-a2bb-4c53-8ada-c6152de9a3ba",
   "metadata": {},
   "source": [
    "## People with Net worth > 150 billions"
   ]
  },
  {
   "cell_type": "code",
   "execution_count": null,
   "id": "3a55a833-135e-4857-ba9c-d9bdcf7a58d5",
   "metadata": {},
   "outputs": [],
   "source": [
    "ten_billion = df[df['Net Worth (in billions)']>150].reset_index(drop=True)\n",
    "ten_billion"
   ]
  },
  {
   "cell_type": "markdown",
   "id": "ec3812b0-0aba-41b5-b5aa-b4310268192d",
   "metadata": {},
   "source": [
    "### Combined Net worth of people with Net worth > 150 Billions, in each Country "
   ]
  },
  {
   "cell_type": "code",
   "execution_count": null,
   "id": "f45fa8a1-4b6b-4342-95c1-896e1f0ebe36",
   "metadata": {},
   "outputs": [],
   "source": [
    "tenB_country_counts = ten_billion.groupby('Country')['Net Worth (in billions)'].sum().sort_values(ascending=False).reset_index()\n",
    "tenB_country_counts"
   ]
  },
  {
   "cell_type": "code",
   "execution_count": null,
   "id": "45ee1a94-0dd1-4019-afc1-a9c40d1f66b5",
   "metadata": {},
   "outputs": [],
   "source": [
    "plt.bar(tenB_country_counts['Country'],tenB_country_counts['Net Worth (in billions)'])\n",
    "plt.title(\"Countries with Total Net worth > 150b of its Billionaires\")\n",
    "plt.xlabel(\"Country\")\n",
    "plt.ylabel(\"Net Worth (in billions)\")\n",
    "plt.show()"
   ]
  },
  {
   "cell_type": "markdown",
   "id": "0de732e4-e84b-4c3f-86a9-4b037c1e8aa0",
   "metadata": {},
   "source": [
    "## Industries with their Net worth "
   ]
  },
  {
   "cell_type": "markdown",
   "id": "6495c208-22c3-4e3f-b1ef-4ccce456991e",
   "metadata": {},
   "source": [
    "### Industry with highest combined Net worth"
   ]
  },
  {
   "cell_type": "code",
   "execution_count": null,
   "id": "2a19faf8-151f-471f-bf1a-f1882584de24",
   "metadata": {},
   "outputs": [],
   "source": [
    "tenB_inds_counts = df.groupby('Industry')['Net Worth (in billions)'].count().sort_values(ascending=False).reset_index()\n",
    "print(f\"Industry with highest combined Net Worth: {tenB_inds_counts['Industry'][0]} , {tenB_inds_counts['Net Worth (in billions)'][0]} billions\")"
   ]
  },
  {
   "cell_type": "code",
   "execution_count": null,
   "id": "39a7188e-20d2-4d03-896e-f1e44e58f5fe",
   "metadata": {},
   "outputs": [],
   "source": [
    "tenB_inds_counts"
   ]
  },
  {
   "cell_type": "code",
   "execution_count": null,
   "id": "d8b7fdf0-8dfb-477b-bcd8-d5134249650e",
   "metadata": {},
   "outputs": [],
   "source": [
    "plt.bar(tenB_inds_counts['Industry'],tenB_inds_counts['Net Worth (in billions)'])\n",
    "plt.title(\"Industry VS Total Net worth\")\n",
    "# plt.xlabel(\"Industry\")\n",
    "plt.ylabel(\"Net Worth (in billions)\")\n",
    "plt.xticks(rotation=90)\n",
    "plt.show()"
   ]
  },
  {
   "cell_type": "markdown",
   "id": "1fdd89f1-03b1-4f2f-925a-aeea5ae78e7b",
   "metadata": {},
   "source": [
    "## Top 10 Richest people, with combined worth of all companies in all Industries"
   ]
  },
  {
   "cell_type": "code",
   "execution_count": null,
   "id": "6959537c-6fa5-4237-a6b2-c1ec7cba887f",
   "metadata": {},
   "outputs": [],
   "source": [
    "top_10_men = df.groupby(by='Name')['Net Worth (in billions)'].sum().sort_values(ascending=False).reset_index().head(10)\n",
    "top_10_men"
   ]
  },
  {
   "cell_type": "markdown",
   "id": "5523127d-abb0-41ce-ae81-199b9c987f58",
   "metadata": {},
   "source": [
    "## Top 10 companies, with combined worth of all people in all Industries"
   ]
  },
  {
   "cell_type": "code",
   "execution_count": null,
   "id": "5887f275-ae63-416a-951e-729b2013e4b5",
   "metadata": {},
   "outputs": [],
   "source": [
    "top_10_cmp = df.groupby(by='Company')['Net Worth (in billions)'].sum().sort_values(ascending=False).reset_index().head(10)\n",
    "top_10_cmp"
   ]
  },
  {
   "cell_type": "code",
   "execution_count": null,
   "id": "12335a3e-0302-4ed5-84a8-ada829007e9c",
   "metadata": {},
   "outputs": [],
   "source": []
  }
 ],
 "metadata": {
  "kernelspec": {
   "display_name": "Python 3 (ipykernel)",
   "language": "python",
   "name": "python3"
  },
  "language_info": {
   "codemirror_mode": {
    "name": "ipython",
    "version": 3
   },
   "file_extension": ".py",
   "mimetype": "text/x-python",
   "name": "python",
   "nbconvert_exporter": "python",
   "pygments_lexer": "ipython3",
   "version": "3.12.4"
  }
 },
 "nbformat": 4,
 "nbformat_minor": 5
}
